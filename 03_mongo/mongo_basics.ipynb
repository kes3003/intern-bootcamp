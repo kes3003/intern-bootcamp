{
 "cells": [
  {
   "cell_type": "code",
   "execution_count": 1,
   "id": "7b313b1e",
   "metadata": {
    "vscode": {
     "languageId": "plaintext"
    }
   },
   "outputs": [
    {
     "name": "stdout",
     "output_type": "stream",
     "text": [
      "Collections: ['customers', 'orders', 'transactions', 'products', 'order_items']\n"
     ]
    }
   ],
   "source": [
    "from pymongo import MongoClient\n",
    "import pandas as pd\n",
    "from pprint import pprint\n",
    "\n",
    "# Connect to local MongoDB\n",
    "client = MongoClient(\"mongodb://localhost:27017\")\n",
    "db = client[\"intern_db\"]\n",
    "\n",
    "# Check available collections\n",
    "print(\"Collections:\", db.list_collection_names())"
   ]
  },
  {
   "cell_type": "code",
   "execution_count": 2,
   "id": "9bf3e6af",
   "metadata": {
    "vscode": {
     "languageId": "plaintext"
    }
   },
   "outputs": [
    {
     "name": "stdout",
     "output_type": "stream",
     "text": [
      "Documents inserted successfully!\n"
     ]
    }
   ],
   "source": [
    "db.customers.insert_one({\n",
    "    \"customer_id\": 501,\n",
    "    \"name\": \"Layla Thomas\",\n",
    "    \"email\": \"layla.thomas@example.com\",\n",
    "    \"country\": \"UAE\",\n",
    "    \"loyalty_points\": 900\n",
    "})\n",
    "\n",
    "db.products.insert_many([\n",
    "    {\"product_id\": 301, \"name\": \"Resistance Band\", \"price\": 35, \"category\": \"Fitness\"},\n",
    "    {\"product_id\": 302, \"name\": \"Smart Watch\", \"price\": 220, \"category\": \"Electronics\"}\n",
    "])\n",
    "\n",
    "print(\"Documents inserted successfully!\")"
   ]
  },
  {
   "cell_type": "code",
   "execution_count": 3,
   "id": "1ab93c75",
   "metadata": {
    "vscode": {
     "languageId": "plaintext"
    }
   },
   "outputs": [
    {
     "name": "stdout",
     "output_type": "stream",
     "text": [
      "{'_id': ObjectId('69030ce27530486b8de9c0c4'),\n",
      " 'city': 'Mendezstad',\n",
      " 'country': 'Luxembourg',\n",
      " 'created_at': '2021-04-27',\n",
      " 'customer_id': 1,\n",
      " 'email': 'banderson@example.com',\n",
      " 'name': 'Gregory Cohen',\n",
      " 'phone': '582-345-3099x70565'}\n",
      "{'_id': ObjectId('69030ce27530486b8de9c0c5'),\n",
      " 'city': 'Tylerfurt',\n",
      " 'country': 'Guam',\n",
      " 'created_at': '2025-03-04',\n",
      " 'customer_id': 2,\n",
      " 'email': 'jennifer25@example.org',\n",
      " 'name': 'Douglas Evans',\n",
      " 'phone': '388.869.7100x336'}\n",
      "{'_id': ObjectId('69030ce27530486b8de9c0c6'),\n",
      " 'city': 'Port Alexandra',\n",
      " 'country': 'Bulgaria',\n",
      " 'created_at': '2023-05-15',\n",
      " 'customer_id': 3,\n",
      " 'email': 'brownrobert@example.com',\n",
      " 'name': 'Richard Hayes',\n",
      " 'phone': '(942)265-6035x5339'}\n"
     ]
    }
   ],
   "source": [
    "for doc in db.customers.find().limit(3):\n",
    "    pprint(doc)"
   ]
  },
  {
   "cell_type": "code",
   "execution_count": 4,
   "id": "3c42c5ae",
   "metadata": {
    "vscode": {
     "languageId": "plaintext"
    }
   },
   "outputs": [
    {
     "name": "stdout",
     "output_type": "stream",
     "text": [
      "{'_id': ObjectId('6903b6d35d9a12837ef7f42d'),\n",
      " 'country': 'UAE',\n",
      " 'customer_id': 501,\n",
      " 'email': 'layla.thomas@example.com',\n",
      " 'loyalty_points': 900,\n",
      " 'name': 'Layla Thomas'}\n"
     ]
    }
   ],
   "source": [
    "for doc in db.customers.find({\"country\": \"UAE\"}):\n",
    "    pprint(doc)"
   ]
  },
  {
   "cell_type": "code",
   "execution_count": 5,
   "id": "77d8bc21",
   "metadata": {
    "vscode": {
     "languageId": "plaintext"
    }
   },
   "outputs": [
    {
     "name": "stdout",
     "output_type": "stream",
     "text": [
      "{'price': 127.75}\n",
      "{'price': 188.92}\n",
      "{'price': 335.96}\n",
      "{'price': 32.69}\n",
      "{'price': 433.0}\n",
      "{'price': 330.98}\n",
      "{'price': 67.4}\n",
      "{'price': 279.85}\n",
      "{'price': 186.77}\n",
      "{'price': 476.44}\n",
      "{'price': 60.21}\n",
      "{'price': 212.03}\n",
      "{'price': 457.02}\n",
      "{'price': 35.35}\n",
      "{'price': 43.76}\n",
      "{'price': 8.96}\n",
      "{'price': 35.87}\n",
      "{'price': 116.5}\n",
      "{'price': 443.6}\n",
      "{'price': 115.2}\n",
      "{'name': 'Resistance Band', 'price': 35}\n",
      "{'name': 'Smart Watch', 'price': 220}\n"
     ]
    }
   ],
   "source": [
    "for doc in db.products.find({}, {\"_id\": 0, \"name\": 1, \"price\": 1}):\n",
    "    print(doc)"
   ]
  },
  {
   "cell_type": "code",
   "execution_count": 6,
   "id": "d035fe45",
   "metadata": {
    "vscode": {
     "languageId": "plaintext"
    }
   },
   "outputs": [
    {
     "name": "stdout",
     "output_type": "stream",
     "text": [
      "{'price': 476.44}\n",
      "{'price': 457.02}\n",
      "{'price': 443.6}\n",
      "{'price': 433.0}\n",
      "{'price': 335.96}\n",
      "{'price': 330.98}\n",
      "{'price': 279.85}\n",
      "{'name': 'Smart Watch', 'price': 220}\n",
      "{'price': 212.03}\n",
      "{'price': 188.92}\n",
      "{'price': 186.77}\n",
      "{'price': 127.75}\n",
      "{'price': 116.5}\n",
      "{'price': 115.2}\n",
      "{'price': 67.4}\n",
      "{'price': 60.21}\n",
      "{'price': 43.76}\n",
      "{'price': 35.87}\n",
      "{'price': 35.35}\n",
      "{'name': 'Resistance Band', 'price': 35}\n",
      "{'price': 32.69}\n",
      "{'price': 8.96}\n"
     ]
    }
   ],
   "source": [
    "for doc in db.products.find({}, {\"_id\": 0, \"name\": 1, \"price\": 1}).sort(\"price\", -1):\n",
    "    print(doc)"
   ]
  },
  {
   "cell_type": "code",
   "execution_count": 7,
   "id": "2df2cd01",
   "metadata": {
    "vscode": {
     "languageId": "plaintext"
    }
   },
   "outputs": [
    {
     "data": {
      "text/plain": [
       "DeleteResult({'n': 1, 'ok': 1.0}, acknowledged=True)"
      ]
     },
     "execution_count": 7,
     "metadata": {},
     "output_type": "execute_result"
    }
   ],
   "source": [
    "# Update a field\n",
    "db.customers.update_one({\"customer_id\": 501}, {\"$set\": {\"loyalty_points\": 1200}})\n",
    "\n",
    "# Delete the sample doc\n",
    "db.customers.delete_one({\"customer_id\": 501})"
   ]
  },
  {
   "cell_type": "code",
   "execution_count": 8,
   "id": "348d03a7",
   "metadata": {
    "vscode": {
     "languageId": "plaintext"
    }
   },
   "outputs": [
    {
     "data": {
      "text/plain": [
       "[{'_id': 'Tuvalu', 'total_customers': 2},\n",
       " {'_id': 'Liechtenstein', 'total_customers': 2},\n",
       " {'_id': 'Heard Island and McDonald Islands', 'total_customers': 2},\n",
       " {'_id': 'Antigua and Barbuda', 'total_customers': 2},\n",
       " {'_id': 'Bosnia and Herzegovina', 'total_customers': 1},\n",
       " {'_id': \"Cote d'Ivoire\", 'total_customers': 1},\n",
       " {'_id': 'Saint Vincent and the Grenadines', 'total_customers': 1},\n",
       " {'_id': 'Senegal', 'total_customers': 1},\n",
       " {'_id': 'Fiji', 'total_customers': 1},\n",
       " {'_id': 'Estonia', 'total_customers': 1},\n",
       " {'_id': 'Puerto Rico', 'total_customers': 1},\n",
       " {'_id': 'Saint Lucia', 'total_customers': 1},\n",
       " {'_id': 'Sri Lanka', 'total_customers': 1},\n",
       " {'_id': 'United States Minor Outlying Islands', 'total_customers': 1},\n",
       " {'_id': 'Singapore', 'total_customers': 1},\n",
       " {'_id': 'Lesotho', 'total_customers': 1},\n",
       " {'_id': 'Ethiopia', 'total_customers': 1},\n",
       " {'_id': 'Luxembourg', 'total_customers': 1},\n",
       " {'_id': 'Bulgaria', 'total_customers': 1},\n",
       " {'_id': 'Jersey', 'total_customers': 1},\n",
       " {'_id': 'Poland', 'total_customers': 1},\n",
       " {'_id': 'Antarctica (the territory South of 60 deg S)', 'total_customers': 1},\n",
       " {'_id': 'Kazakhstan', 'total_customers': 1},\n",
       " {'_id': 'Congo', 'total_customers': 1},\n",
       " {'_id': 'Yemen', 'total_customers': 1},\n",
       " {'_id': 'Indonesia', 'total_customers': 1},\n",
       " {'_id': 'Sao Tome and Principe', 'total_customers': 1},\n",
       " {'_id': 'Kiribati', 'total_customers': 1},\n",
       " {'_id': 'French Guiana', 'total_customers': 1},\n",
       " {'_id': 'Iceland', 'total_customers': 1},\n",
       " {'_id': 'Central African Republic', 'total_customers': 1},\n",
       " {'_id': 'Madagascar', 'total_customers': 1},\n",
       " {'_id': 'Mali', 'total_customers': 1},\n",
       " {'_id': 'Bangladesh', 'total_customers': 1},\n",
       " {'_id': 'Pitcairn Islands', 'total_customers': 1},\n",
       " {'_id': 'Taiwan', 'total_customers': 1},\n",
       " {'_id': 'Faroe Islands', 'total_customers': 1},\n",
       " {'_id': 'Guyana', 'total_customers': 1},\n",
       " {'_id': 'Mongolia', 'total_customers': 1},\n",
       " {'_id': 'Guam', 'total_customers': 1},\n",
       " {'_id': 'Japan', 'total_customers': 1},\n",
       " {'_id': 'Saint Pierre and Miquelon', 'total_customers': 1},\n",
       " {'_id': 'Marshall Islands', 'total_customers': 1},\n",
       " {'_id': 'Cook Islands', 'total_customers': 1},\n",
       " {'_id': 'French Polynesia', 'total_customers': 1},\n",
       " {'_id': 'New Caledonia', 'total_customers': 1}]"
      ]
     },
     "execution_count": 8,
     "metadata": {},
     "output_type": "execute_result"
    }
   ],
   "source": [
    "pipeline = [\n",
    "    {\"$group\": {\"_id\": \"$country\", \"total_customers\": {\"$sum\": 1}}},\n",
    "    {\"$sort\": {\"total_customers\": -1}}\n",
    "]\n",
    "list(db.customers.aggregate(pipeline))"
   ]
  },
  {
   "cell_type": "markdown",
   "id": "00db8c7c",
   "metadata": {},
   "source": [
    "### When to Use SQL vs NoSQL\n",
    "\n",
    "| Aspect | SQL (PostgreSQL) | NoSQL (MongoDB) |\n",
    "|--------|------------------|----------------|\n",
    "| Schema | Fixed tables & columns | Flexible JSON documents |\n",
    "| Relations | Strong (joins, constraints) | Weak or embedded |\n",
    "| Scalability | Vertical | Horizontal (sharding) |\n",
    "| Ideal For | Financial, transactional data | Unstructured / rapidly changing data |\n",
    "| Example Use | Orders & payments | User profiles, logs, events |"
   ]
  }
 ],
 "metadata": {
  "kernelspec": {
   "display_name": "Python 3 (ipykernel)",
   "language": "python",
   "name": "python3"
  },
  "language_info": {
   "codemirror_mode": {
    "name": "ipython",
    "version": 3
   },
   "file_extension": ".py",
   "mimetype": "text/x-python",
   "name": "python",
   "nbconvert_exporter": "python",
   "pygments_lexer": "ipython3",
   "version": "3.14.0"
  }
 },
 "nbformat": 4,
 "nbformat_minor": 5
}
